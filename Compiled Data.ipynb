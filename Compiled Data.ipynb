{
 "cells": [
  {
   "cell_type": "code",
   "execution_count": 2,
   "id": "secure-quantity",
   "metadata": {},
   "outputs": [],
   "source": [
    "import pandas as pd \n",
    "import datetime as dt\n",
    "from datetime import datetime\n",
    "import numpy as np\n",
    "import matplotlib\n",
    "import seaborn as sns\n",
    "\n",
    "df = pd.read_csv(\"PHILADELPHIA FVE 20210208.txt\", sep='\\t', header=None) \n",
    "demo_df = pd.read_csv(\"ACSST5Y2019.S0601_data_with_overlays_2021-04-06T003209.csv\") \n",
    "income_df = pd.read_csv(\"ACSST5Y2019.S1901_data_with_overlays_2021-04-06T003209.csv\")\n",
    "cols = pd.read_csv(\"Field Names.txt\", sep='\\t') \n",
    "election_map = pd.read_csv(\"PHILADELPHIA Election Map 20210208.txt\", sep='\\t', header=None) "
   ]
  },
  {
   "cell_type": "code",
   "execution_count": 3,
   "id": "twelve-london",
   "metadata": {},
   "outputs": [],
   "source": [
    "headers = cols['Field Description'].tolist()\n",
    "df.columns = headers"
   ]
  },
  {
   "cell_type": "code",
   "execution_count": 4,
   "id": "brave-department",
   "metadata": {},
   "outputs": [],
   "source": [
    "election_map.columns = ['County', 'Election Number', 'Election', 'Election Date']\n",
    "for index, row in election_map.iterrows():\n",
    "    col_name = 'Election ' + str(row['Election Number']) + ' Party'\n",
    "    new_name = row['Election']\n",
    "    df.rename({col_name : new_name}, axis=1, inplace=True)"
   ]
  },
  {
   "cell_type": "code",
   "execution_count": 5,
   "id": "administrative-account",
   "metadata": {},
   "outputs": [],
   "source": [
    "df.drop(columns=['Title', 'First Name', 'Middle Name', 'Suffix'], inplace=True)\n",
    "df['Address'] = df['House Number'].astype(str) + ' ' + df['Street Name']"
   ]
  },
  {
   "cell_type": "code",
   "execution_count": 6,
   "id": "floral-machine",
   "metadata": {},
   "outputs": [
    {
     "name": "stderr",
     "output_type": "stream",
     "text": [
      "<ipython-input-6-826d1b2a75e9>:7: SettingWithCopyWarning: \n",
      "A value is trying to be set on a copy of a slice from a DataFrame.\n",
      "Try using .loc[row_indexer,col_indexer] = value instead\n",
      "\n",
      "See the caveats in the documentation: https://pandas.pydata.org/pandas-docs/stable/user_guide/indexing.html#returning-a-view-versus-a-copy\n",
      "  penn_add_voters['School'] = 'University of Pennsylvania'\n",
      "<ipython-input-6-826d1b2a75e9>:13: SettingWithCopyWarning: \n",
      "A value is trying to be set on a copy of a slice from a DataFrame.\n",
      "Try using .loc[row_indexer,col_indexer] = value instead\n",
      "\n",
      "See the caveats in the documentation: https://pandas.pydata.org/pandas-docs/stable/user_guide/indexing.html#returning-a-view-versus-a-copy\n",
      "  drexel_voters['School'] = 'Drexel University'\n",
      "<ipython-input-6-826d1b2a75e9>:18: SettingWithCopyWarning: \n",
      "A value is trying to be set on a copy of a slice from a DataFrame.\n",
      "Try using .loc[row_indexer,col_indexer] = value instead\n",
      "\n",
      "See the caveats in the documentation: https://pandas.pydata.org/pandas-docs/stable/user_guide/indexing.html#returning-a-view-versus-a-copy\n",
      "  temple_voters['School'] = 'Temple University'\n",
      "<ipython-input-6-826d1b2a75e9>:22: SettingWithCopyWarning: \n",
      "A value is trying to be set on a copy of a slice from a DataFrame.\n",
      "Try using .loc[row_indexer,col_indexer] = value instead\n",
      "\n",
      "See the caveats in the documentation: https://pandas.pydata.org/pandas-docs/stable/user_guide/indexing.html#returning-a-view-versus-a-copy\n",
      "  tju_voters['School'] = 'Thomas Jefferson University'\n",
      "<ipython-input-6-826d1b2a75e9>:26: SettingWithCopyWarning: \n",
      "A value is trying to be set on a copy of a slice from a DataFrame.\n",
      "Try using .loc[row_indexer,col_indexer] = value instead\n",
      "\n",
      "See the caveats in the documentation: https://pandas.pydata.org/pandas-docs/stable/user_guide/indexing.html#returning-a-view-versus-a-copy\n",
      "  usciences_voters['School'] = 'University of the Sciences'\n"
     ]
    }
   ],
   "source": [
    "penn_addresses = ['3941 IRVING ST', '3900 WALNUT ST',  '3820 LOCUST WALK', '3910 IRVING ST', '3333 WALNUT ST',\n",
    "                  '3565 SANSOM ST', '3335 WOODLAND WALK', '3817 SPRUCE ST', '3700 SPRUCE ST', '3901 LOCUST WALK',\n",
    "                  '3715 WOODLAND WALK', '3909 SPRUCE ST', '3650 SPRUCE ST', '310 S 36TH ST', '3925 WALNUT ST',\n",
    "                  '3820 LOCUST WK', '3465 SANSOM ST', '3901 LOCUST WK', '101 S 39TH ST', '3901 LOCUST ST',\n",
    "                  '3411 CHESTNUT ST', '3900 CHESTNUT ST', '3737 CHESTNUT ST', '3702 SPRUCE ST', '3945 CHESTNUT ST']\n",
    "penn_add_voters = df[df['Address'].isin(penn_addresses)]\n",
    "penn_add_voters['School'] = 'University of Pennsylvania'\n",
    "\n",
    "drexel_addresses = ['3301 ARCH ST', '115 N 32ND ST',  '203 N 34TH ST', '223 N 34TH ST', '3301 RACE ST',\n",
    "                    '3200 RACE ST', '3300 RACE ST', '325 N 15TH ST', '101 N 34TH ST', '3320 POWELTON AVE',\n",
    "                    '3200 CHESTNUT ST']\n",
    "drexel_voters = df[df['Address'].isin(drexel_addresses)]\n",
    "drexel_voters['School'] = 'Drexel University'\n",
    "\n",
    "temple_addresses = ['2029 N BROAD ST', '1601 N BROAD ST',  '1603 N BROAD ST', '2108 N BROAD ST', '1940 LIACOURAS WALK',\n",
    "                    '1300 CECIL B MOORE AVE', '1200 CECIL B MOORE AVE', '1250 CECIL B MOORE AVE', \n",
    "                    '1520 CECIL B MOORE AVE', '801 N CHERRY ST']\n",
    "temple_voters = df[df['Address'].isin(temple_addresses)]\n",
    "temple_voters['School'] = 'Temple University'\n",
    "\n",
    "tju_addresses = ['950 WALNUT ST', '1000 WALNUT ST',  '1603 N BROAD ST', '201 S 11TH ST']\n",
    "tju_voters = df[df['Address'].isin(tju_addresses)]\n",
    "tju_voters['School'] = 'Thomas Jefferson University'\n",
    "\n",
    "usciences_addresses = ['734 S 42ND ST', '1000 WALNUT ST',  '510 S 42ND ST']\n",
    "usciences_voters = df[df['Address'].isin(usciences_addresses)]\n",
    "usciences_voters['School'] = 'University of the Sciences'"
   ]
  },
  {
   "cell_type": "code",
   "execution_count": 7,
   "id": "architectural-fifth",
   "metadata": {},
   "outputs": [],
   "source": [
    "student_add_voters = pd.DataFrame().append([penn_add_voters, drexel_voters, temple_voters, tju_voters, usciences_voters])\n",
    "student_add_voters.dropna(axis=1, how='all', inplace=True)"
   ]
  },
  {
   "cell_type": "code",
   "execution_count": 8,
   "id": "equipped-demand",
   "metadata": {},
   "outputs": [],
   "source": [
    "for index, row in election_map.iterrows():\n",
    "    col_name = 'Election ' + str(row['Election Number']) + ' Vote Method'\n",
    "    new_name = row['Election Date']\n",
    "    student_add_voters.rename({col_name : new_name}, axis=1, inplace=True)"
   ]
  },
  {
   "cell_type": "code",
   "execution_count": 9,
   "id": "decimal-sunrise",
   "metadata": {},
   "outputs": [],
   "source": [
    "student_add_voters['DOB'] = pd.to_datetime(student_add_voters['DOB'])\n",
    "voters15 = student_add_voters[((dt.datetime.strptime('11/03/2015', '%d/%m/%Y') - student_add_voters['DOB']).dt.days/365 <= 24)\n",
    "                              & ((dt.datetime.strptime('11/03/2015', '%d/%m/%Y') - student_add_voters['DOB']).dt.days/365 >= 18)]\n",
    "voters16 = student_add_voters[((dt.datetime.strptime('11/08/2016', '%d/%m/%Y') - student_add_voters['DOB']).dt.days/365 <= 24)\n",
    "                              & ((dt.datetime.strptime('11/08/2016', '%d/%m/%Y') - student_add_voters['DOB']).dt.days/365 >= 18)]\n",
    "voters17 = student_add_voters[((dt.datetime.strptime('11/07/2017', '%d/%m/%Y') - student_add_voters['DOB']).dt.days/365 <= 24)\n",
    "                              & ((dt.datetime.strptime('11/07/2017', '%d/%m/%Y') - student_add_voters['DOB']).dt.days/365 >= 18)]\n",
    "voters18 = student_add_voters[((dt.datetime.strptime('11/06/2018', '%d/%m/%Y') - student_add_voters['DOB']).dt.days/365 <= 24)\n",
    "                              & ((dt.datetime.strptime('11/06/2018', '%d/%m/%Y') - student_add_voters['DOB']).dt.days/365 >= 18)]\n",
    "voters19 = student_add_voters[((dt.datetime.strptime('11/05/2019', '%d/%m/%Y') - student_add_voters['DOB']).dt.days/365 <= 24)\n",
    "                              & ((dt.datetime.strptime('11/05/2019', '%d/%m/%Y') - student_add_voters['DOB']).dt.days/365 >= 18)]\n",
    "voters20 = student_add_voters[((dt.datetime.strptime('11/03/2020', '%d/%m/%Y') - student_add_voters['DOB']).dt.days/365 <= 24)\n",
    "                              & ((dt.datetime.strptime('11/03/2020', '%d/%m/%Y') - student_add_voters['DOB']).dt.days/365 >= 18)]"
   ]
  },
  {
   "cell_type": "code",
   "execution_count": 10,
   "id": "paperback-element",
   "metadata": {},
   "outputs": [],
   "source": [
    "voters20 = voters20[['ID Number', 'Last Name', 'Gender', 'DOB', 'Registration Date', 'Voter Status',\n",
    "                     'Status Change Date', 'Party Code', 'Address', 'Zip', 'Last Vote Date', 'Precinct Code',\n",
    "                     'School', '04/26/2016', '2016 GENERAL PRIMARY', '11/08/2016', '2016 GENERAL ELECTION',\n",
    "                     '05/16/2017', '2017 MUNICIPAL PRIMARY', '11/07/2017', '2017 MUNICIPAL ELECTION',\n",
    "                     '05/15/2018', '2018 GENERAL PRIMARY', '11/06/2018', '2018 GENERAL ELECTION',\n",
    "                     '05/21/2019', '2019 MUNICIPAL PRIMARY', '11/05/2019', '2019 MUNICIPAL ELECTION',\n",
    "                     '06/02/2020', '2020 GENERAL PRIMARY', '11/03/2020', '2020 GENERAL ELECTION']]\n",
    "voters19 = voters19[['ID Number', 'Last Name', 'Gender', 'DOB', 'Registration Date', 'Voter Status',\n",
    "                     'Status Change Date', 'Party Code', 'Address', 'Zip', 'Last Vote Date', 'Precinct Code',\n",
    "                     'School', '04/26/2016', '2016 GENERAL PRIMARY', '11/08/2016', '2016 GENERAL ELECTION',\n",
    "                     '05/16/2017', '2017 MUNICIPAL PRIMARY', '11/07/2017', '2017 MUNICIPAL ELECTION',\n",
    "                     '05/15/2018', '2018 GENERAL PRIMARY', '11/06/2018', '2018 GENERAL ELECTION',\n",
    "                     '05/21/2019', '2019 MUNICIPAL PRIMARY', '11/05/2019', '2019 MUNICIPAL ELECTION',\n",
    "                     '06/02/2020', '2020 GENERAL PRIMARY', '11/03/2020', '2020 GENERAL ELECTION']]\n",
    "voters18 = voters18[['ID Number', 'Last Name', 'Gender', 'DOB', 'Registration Date', 'Voter Status',\n",
    "                     'Status Change Date', 'Party Code', 'Address', 'Zip', 'Last Vote Date', 'Precinct Code',\n",
    "                     'School', '04/26/2016', '2016 GENERAL PRIMARY', '11/08/2016', '2016 GENERAL ELECTION',\n",
    "                     '05/16/2017', '2017 MUNICIPAL PRIMARY', '11/07/2017', '2017 MUNICIPAL ELECTION',\n",
    "                     '05/15/2018', '2018 GENERAL PRIMARY', '11/06/2018', '2018 GENERAL ELECTION',\n",
    "                     '05/21/2019', '2019 MUNICIPAL PRIMARY', '11/05/2019', '2019 MUNICIPAL ELECTION',\n",
    "                     '06/02/2020', '2020 GENERAL PRIMARY', '11/03/2020', '2020 GENERAL ELECTION']]\n",
    "voters17 = voters17[['ID Number', 'Last Name', 'Gender', 'DOB', 'Registration Date', 'Voter Status',\n",
    "                     'Status Change Date', 'Party Code', 'Address', 'Zip', 'Last Vote Date', 'Precinct Code',\n",
    "                     'School', '04/26/2016', '2016 GENERAL PRIMARY', '11/08/2016', '2016 GENERAL ELECTION',\n",
    "                     '05/16/2017', '2017 MUNICIPAL PRIMARY', '11/07/2017', '2017 MUNICIPAL ELECTION',\n",
    "                     '05/15/2018', '2018 GENERAL PRIMARY', '11/06/2018', '2018 GENERAL ELECTION',\n",
    "                     '05/21/2019', '2019 MUNICIPAL PRIMARY', '11/05/2019', '2019 MUNICIPAL ELECTION',\n",
    "                     '06/02/2020', '2020 GENERAL PRIMARY', '11/03/2020', '2020 GENERAL ELECTION']]\n",
    "voters16 = voters16[['ID Number', 'Last Name', 'Gender', 'DOB', 'Registration Date', 'Voter Status',\n",
    "                     'Status Change Date', 'Party Code', 'Address', 'Zip', 'Last Vote Date', 'Precinct Code',\n",
    "                     'School', '04/26/2016', '2016 GENERAL PRIMARY', '11/08/2016', '2016 GENERAL ELECTION',\n",
    "                     '05/16/2017', '2017 MUNICIPAL PRIMARY', '11/07/2017', '2017 MUNICIPAL ELECTION',\n",
    "                     '05/15/2018', '2018 GENERAL PRIMARY', '11/06/2018', '2018 GENERAL ELECTION',\n",
    "                     '05/21/2019', '2019 MUNICIPAL PRIMARY', '11/05/2019', '2019 MUNICIPAL ELECTION',\n",
    "                     '06/02/2020', '2020 GENERAL PRIMARY', '11/03/2020', '2020 GENERAL ELECTION']]"
   ]
  },
  {
   "cell_type": "code",
   "execution_count": 11,
   "id": "cosmetic-segment",
   "metadata": {},
   "outputs": [],
   "source": [
    "student_voters = pd.concat([voters16, voters17, voters18, \n",
    "                                voters19, voters20]).drop_duplicates().reset_index(drop=True)"
   ]
  },
  {
   "cell_type": "code",
   "execution_count": 12,
   "id": "sensitive-detroit",
   "metadata": {},
   "outputs": [
    {
     "data": {
      "text/plain": [
       "8095"
      ]
     },
     "execution_count": 12,
     "metadata": {},
     "output_type": "execute_result"
    }
   ],
   "source": [
    "student_voters['ID Number'].count()"
   ]
  },
  {
   "cell_type": "code",
   "execution_count": 13,
   "id": "korean-debate",
   "metadata": {},
   "outputs": [],
   "source": [
    "penn_tracts = ['Census Tract 87.02, Philadelphia County, Pennsylvania',\n",
    "               'Census Tract 88.02, Philadelphia County, Pennsylvania',\n",
    "               'Census Tract 88.01, Philadelphia County, Pennsylvania',\n",
    "               'Census Tract 369, Philadelphia County, Pennsylvania']\n",
    "drexel_tracts = ['Census Tract 90, Philadelphia County, Pennsylvania']\n",
    "temple_tracts = ['Census Tract 153, Philadelphia County, Pennsylvania',\n",
    "                 'Census Tract 147, Philadelphia County, Pennsylvania',\n",
    "                 'Census Tract 146, Philadelphia County, Pennsylvania',\n",
    "                 'Census Tract 377, Philadelphia County, Pennsylvania']\n",
    "tju_tracts = ['Census Tract 9.02, Philadelphia County, Pennsylvania']\n",
    "usciences_tracts = ['Census Tract 77, Philadelphia County, Pennsylvania']"
   ]
  },
  {
   "cell_type": "code",
   "execution_count": 14,
   "id": "loved-terrorist",
   "metadata": {},
   "outputs": [],
   "source": [
    "relevant_cols = ['GEO_ID', 'NAME', 'S0601_C01_001E', 'S0601_C01_004E',\n",
    "                 'S0601_C01_014E', 'S0601_C01_015E', 'S0601_C01_017E', 'S0601_C01_021E', \n",
    "                 'S0601_C01_047E']\n",
    "demo_df = demo_df[relevant_cols]\n",
    "col_names = ['ID', 'Tract', 'Total Population', '18-24 Population', 'White Population', \n",
    "             'Black Population', 'Asian Population', 'Hispanic Population', 'Median Income']\n",
    "demo_df.columns = col_names\n",
    "demo_df = demo_df.drop(0, axis=0)"
   ]
  },
  {
   "cell_type": "code",
   "execution_count": 15,
   "id": "registered-baghdad",
   "metadata": {},
   "outputs": [],
   "source": [
    "relevant_cols2 = ['GEO_ID', 'S1901_C01_013E']\n",
    "income_df = income_df[relevant_cols2]\n",
    "\n",
    "col_names2 = ['ID', 'Mean Income']\n",
    "income_df.columns = col_names2\n",
    "income_df = income_df.drop(0, axis=0)"
   ]
  },
  {
   "cell_type": "code",
   "execution_count": 16,
   "id": "unlike-lighter",
   "metadata": {},
   "outputs": [],
   "source": [
    "acs_df = demo_df.merge(income_df, how='left', on='ID')\n",
    "acs_df['Total Population'] = acs_df['Total Population'].astype(int)"
   ]
  },
  {
   "cell_type": "code",
   "execution_count": 17,
   "id": "covered-robert",
   "metadata": {},
   "outputs": [],
   "source": [
    "acs_df['18-24 Population'] = pd.to_numeric(acs_df['18-24 Population'])\n",
    "acs_df['White Population'] = pd.to_numeric(acs_df['White Population'])\n",
    "acs_df['Black Population'] = pd.to_numeric(acs_df['Black Population'])\n",
    "acs_df['Asian Population'] = pd.to_numeric(acs_df['Asian Population'])\n",
    "acs_df['Hispanic Population'] = pd.to_numeric(acs_df['Hispanic Population'])\n",
    "acs_df['Median Income'] = pd.to_numeric(acs_df['Median Income'])\n",
    "acs_df['Mean Income'] = pd.to_numeric(acs_df['Mean Income'])"
   ]
  },
  {
   "cell_type": "code",
   "execution_count": 18,
   "id": "refined-bleeding",
   "metadata": {},
   "outputs": [],
   "source": [
    "census9_02 = ['950 WALNUT ST', '1000 WALNUT ST',  '1603 N BROAD ST', '201 S 11TH ST']\n",
    "census77 = ['734 S 42ND ST', '1000 WALNUT ST',  '510 S 42ND ST']\n",
    "census88_02 = ['3941 IRVING ST', '3900 WALNUT ST', '3901 LOCUST WALK', '3909 SPRUCE ST', '3925 WALNUT ST', \n",
    "               '3901 LOCUST ST', '3900 CHESTNUT ST', '3945 CHESTNUT ST', '3901 LOCUST WK']\n",
    "census88_01 = ['3820 LOCUST WALK', '3910 IRVING ST', '3817 SPRUCE ST', '3820 LOCUST WK', '101 S 39TH ST', \n",
    "               '3737 CHESTNUT ST']\n",
    "census90 = ['3301 ARCH ST', '115 N 32ND ST', '203 N 34TH ST', '223 N 34TH ST', '3301 RACE ST', \n",
    "            '3200 RACE ST', '3300 RACE ST', '101 N 34TH ST', '3320 POWELTON AVE']\n",
    "census146 = ['1601 N BROAD ST', '1603 N BROAD ST', '1300 CECIL B MOORE AVE', '1200 CECIL B MOORE AVE', \n",
    "             '1250 CECIL B MOORE AVE']\n",
    "census147 = ['1520 CECIL B MOORE AVE']\n",
    "census153 = ['2108 N BROAD ST']\n",
    "census377 = ['2029 N BROAD ST', '1940 LIACOURAS WALK',]\n",
    "census369 = ['3700 SPRUCE ST', '3333 WALNUT ST', '3565 SANSOM ST', '3335 WOODLAND WALK', '3715 WOODLAND WALK', \n",
    "             '3650 SPRUCE ST', '310 S 36TH ST', '3465 SANSOM ST', '3411 CHESTNUT ST', \n",
    "             '3702 SPRUCE ST', '3200 CHESTNUT ST']"
   ]
  },
  {
   "cell_type": "code",
   "execution_count": 19,
   "id": "sorted-frost",
   "metadata": {},
   "outputs": [],
   "source": [
    "def add_vals(index, tract, df, in_df):\n",
    "    tract_order = ['00902', '07700', '08702', '08801', '08802', '09000', \n",
    "                   '14600', '14700', '15300', '36900', '37700']\n",
    "    geocode = tract_order.index(tract)\n",
    "    in_df.loc[index, 'White Proportion'] = df.iloc[geocode]['White Population']\n",
    "    in_df.loc[index, 'Black Proportion'] = df.iloc[geocode]['Black Population']\n",
    "    in_df.loc[index, 'Asian Proportion'] = df.iloc[geocode]['Asian Population']\n",
    "    in_df.loc[index, 'Hispanic Proportion'] = df.iloc[geocode]['Hispanic Population']\n",
    "    in_df.loc[index, 'Median Income'] = df.iloc[geocode]['Median Income']\n",
    "    in_df.loc[index, 'Mean Income'] = df.iloc[geocode]['Mean Income']"
   ]
  },
  {
   "cell_type": "code",
   "execution_count": 20,
   "id": "offshore-candidate",
   "metadata": {},
   "outputs": [],
   "source": [
    "student_voters['White Proportion'] = 0\n",
    "student_voters['Black Proportion'] = 0\n",
    "student_voters['Asian Proportion'] = 0\n",
    "student_voters['Hispanic Proportion'] = 0\n",
    "student_voters['Median Income'] = 0\n",
    "student_voters['Mean Income'] = 0\n",
    "\n",
    "for index, row in student_voters.iterrows():    \n",
    "    address = row['Address']\n",
    "    if address in census9_02:\n",
    "        add_vals(index, '00902', acs_df, student_voters)\n",
    "    elif address in census77:\n",
    "        add_vals(index, '07700', acs_df, student_voters)\n",
    "    elif address in census88_02:\n",
    "        add_vals(index, '08802', acs_df, student_voters)\n",
    "    elif address in census88_01:\n",
    "        add_vals(index, '08801', acs_df, student_voters)\n",
    "    elif address in census90:\n",
    "        add_vals(index, '09000', acs_df, student_voters)\n",
    "    elif address in census146:\n",
    "        add_vals(index, '14600', acs_df, student_voters)\n",
    "    elif address in census147:\n",
    "        add_vals(index, '14700', acs_df, student_voters)\n",
    "    elif address in census153:\n",
    "        add_vals(index, '15300', acs_df, student_voters)\n",
    "    elif address in census377:\n",
    "        add_vals(index, '37700', acs_df, student_voters)\n",
    "    elif address in census369:\n",
    "        add_vals(index, '36900', acs_df, student_voters)\n",
    "    else:\n",
    "        continue"
   ]
  },
  {
   "cell_type": "code",
   "execution_count": 21,
   "id": "detailed-shade",
   "metadata": {},
   "outputs": [],
   "source": [
    "def binary_col(election):\n",
    "    student_voters[election] = student_voters[election].fillna(0)\n",
    "    student_voters[election][student_voters[election] != 0] = 1"
   ]
  },
  {
   "cell_type": "code",
   "execution_count": 22,
   "id": "medium-title",
   "metadata": {},
   "outputs": [
    {
     "name": "stderr",
     "output_type": "stream",
     "text": [
      "<ipython-input-21-c6139fb019ea>:3: SettingWithCopyWarning: \n",
      "A value is trying to be set on a copy of a slice from a DataFrame\n",
      "\n",
      "See the caveats in the documentation: https://pandas.pydata.org/pandas-docs/stable/user_guide/indexing.html#returning-a-view-versus-a-copy\n",
      "  student_voters[election][student_voters[election] != 0] = 1\n"
     ]
    }
   ],
   "source": [
    "elections = ['2016 GENERAL PRIMARY', '2016 GENERAL ELECTION', '2017 MUNICIPAL PRIMARY', '2017 MUNICIPAL ELECTION',\n",
    "             '2018 GENERAL PRIMARY', '2018 GENERAL ELECTION', '2019 MUNICIPAL PRIMARY','2019 MUNICIPAL ELECTION', \n",
    "             '2020 GENERAL PRIMARY', '2020 GENERAL ELECTION']\n",
    "for election in elections:\n",
    "    binary_col(election)"
   ]
  },
  {
   "cell_type": "code",
   "execution_count": 212,
   "id": "standard-spider",
   "metadata": {},
   "outputs": [],
   "source": [
    "data_final = student_voters.filter(['Gender', 'Voter Status', 'Party Code',\n",
    "                            'Precinct Code', 'School', 'White Proportion', 'Black Proportion',\n",
    "                            'Asian Proportion', 'Hispanic Proportion', 'Median Income', 'Mean Income',\n",
    "                            '2016 GENERAL PRIMARY', '2016 GENERAL ELECTION', '2017 MUNICIPAL PRIMARY', \n",
    "                            '2017 MUNICIPAL ELECTION', '2018 GENERAL PRIMARY', '2018 GENERAL ELECTION', \n",
    "                            '2019 MUNICIPAL PRIMARY','2019 MUNICIPAL ELECTION', \n",
    "                            '2020 GENERAL PRIMARY', '2020 GENERAL ELECTION'], axis=1)"
   ]
  },
  {
   "cell_type": "code",
   "execution_count": 213,
   "id": "present-guitar",
   "metadata": {},
   "outputs": [],
   "source": [
    "categorical = ['School', 'Gender', 'Voter Status', 'Party Code', 'Precinct Code']\n",
    "for x in categorical:\n",
    "    list_x = 'x_' + x\n",
    "    list_x = pd.get_dummies(data_final[x], prefix=x)\n",
    "    data_final = data_final.join(list_x)"
   ]
  },
  {
   "cell_type": "code",
   "execution_count": 214,
   "id": "mathematical-scoop",
   "metadata": {},
   "outputs": [],
   "source": [
    "cols = data_final.columns.values.tolist()\n",
    "\n",
    "final_cols = [c for c in cols if c not in categorical]\n",
    "\n",
    "data_final = data_final[final_cols]"
   ]
  },
  {
   "cell_type": "code",
   "execution_count": 215,
   "id": "monetary-species",
   "metadata": {},
   "outputs": [
    {
     "data": {
      "text/html": [
       "<div>\n",
       "<style scoped>\n",
       "    .dataframe tbody tr th:only-of-type {\n",
       "        vertical-align: middle;\n",
       "    }\n",
       "\n",
       "    .dataframe tbody tr th {\n",
       "        vertical-align: top;\n",
       "    }\n",
       "\n",
       "    .dataframe thead th {\n",
       "        text-align: right;\n",
       "    }\n",
       "</style>\n",
       "<table border=\"1\" class=\"dataframe\">\n",
       "  <thead>\n",
       "    <tr style=\"text-align: right;\">\n",
       "      <th></th>\n",
       "      <th>White Proportion</th>\n",
       "      <th>Black Proportion</th>\n",
       "      <th>Asian Proportion</th>\n",
       "      <th>Hispanic Proportion</th>\n",
       "      <th>Median Income</th>\n",
       "      <th>Mean Income</th>\n",
       "      <th>2016 GENERAL PRIMARY</th>\n",
       "      <th>2016 GENERAL ELECTION</th>\n",
       "      <th>2017 MUNICIPAL PRIMARY</th>\n",
       "      <th>2017 MUNICIPAL ELECTION</th>\n",
       "      <th>...</th>\n",
       "      <th>Precinct Code_2707</th>\n",
       "      <th>Precinct Code_2711</th>\n",
       "      <th>Precinct Code_2716</th>\n",
       "      <th>Precinct Code_2718</th>\n",
       "      <th>Precinct Code_2719</th>\n",
       "      <th>Precinct Code_2720</th>\n",
       "      <th>Precinct Code_2721</th>\n",
       "      <th>Precinct Code_2722</th>\n",
       "      <th>Precinct Code_3207</th>\n",
       "      <th>Precinct Code_4706</th>\n",
       "    </tr>\n",
       "  </thead>\n",
       "  <tbody>\n",
       "    <tr>\n",
       "      <th>0</th>\n",
       "      <td>57.3</td>\n",
       "      <td>14.3</td>\n",
       "      <td>21.7</td>\n",
       "      <td>6.5</td>\n",
       "      <td>4478</td>\n",
       "      <td>71631</td>\n",
       "      <td>1</td>\n",
       "      <td>1</td>\n",
       "      <td>0</td>\n",
       "      <td>0</td>\n",
       "      <td>...</td>\n",
       "      <td>0</td>\n",
       "      <td>0</td>\n",
       "      <td>0</td>\n",
       "      <td>0</td>\n",
       "      <td>1</td>\n",
       "      <td>0</td>\n",
       "      <td>0</td>\n",
       "      <td>0</td>\n",
       "      <td>0</td>\n",
       "      <td>0</td>\n",
       "    </tr>\n",
       "    <tr>\n",
       "      <th>1</th>\n",
       "      <td>57.3</td>\n",
       "      <td>14.3</td>\n",
       "      <td>21.7</td>\n",
       "      <td>6.5</td>\n",
       "      <td>4478</td>\n",
       "      <td>71631</td>\n",
       "      <td>0</td>\n",
       "      <td>0</td>\n",
       "      <td>0</td>\n",
       "      <td>0</td>\n",
       "      <td>...</td>\n",
       "      <td>0</td>\n",
       "      <td>0</td>\n",
       "      <td>0</td>\n",
       "      <td>0</td>\n",
       "      <td>1</td>\n",
       "      <td>0</td>\n",
       "      <td>0</td>\n",
       "      <td>0</td>\n",
       "      <td>0</td>\n",
       "      <td>0</td>\n",
       "    </tr>\n",
       "    <tr>\n",
       "      <th>2</th>\n",
       "      <td>57.3</td>\n",
       "      <td>14.3</td>\n",
       "      <td>21.7</td>\n",
       "      <td>6.5</td>\n",
       "      <td>4478</td>\n",
       "      <td>71631</td>\n",
       "      <td>0</td>\n",
       "      <td>0</td>\n",
       "      <td>0</td>\n",
       "      <td>0</td>\n",
       "      <td>...</td>\n",
       "      <td>0</td>\n",
       "      <td>0</td>\n",
       "      <td>0</td>\n",
       "      <td>0</td>\n",
       "      <td>0</td>\n",
       "      <td>0</td>\n",
       "      <td>0</td>\n",
       "      <td>1</td>\n",
       "      <td>0</td>\n",
       "      <td>0</td>\n",
       "    </tr>\n",
       "    <tr>\n",
       "      <th>3</th>\n",
       "      <td>50.8</td>\n",
       "      <td>21.9</td>\n",
       "      <td>22.6</td>\n",
       "      <td>9.2</td>\n",
       "      <td>6920</td>\n",
       "      <td>33335</td>\n",
       "      <td>0</td>\n",
       "      <td>0</td>\n",
       "      <td>0</td>\n",
       "      <td>0</td>\n",
       "      <td>...</td>\n",
       "      <td>0</td>\n",
       "      <td>0</td>\n",
       "      <td>0</td>\n",
       "      <td>1</td>\n",
       "      <td>0</td>\n",
       "      <td>0</td>\n",
       "      <td>0</td>\n",
       "      <td>0</td>\n",
       "      <td>0</td>\n",
       "      <td>0</td>\n",
       "    </tr>\n",
       "    <tr>\n",
       "      <th>4</th>\n",
       "      <td>51.9</td>\n",
       "      <td>11.9</td>\n",
       "      <td>23.5</td>\n",
       "      <td>11.0</td>\n",
       "      <td>4588</td>\n",
       "      <td>64703</td>\n",
       "      <td>1</td>\n",
       "      <td>0</td>\n",
       "      <td>0</td>\n",
       "      <td>0</td>\n",
       "      <td>...</td>\n",
       "      <td>0</td>\n",
       "      <td>0</td>\n",
       "      <td>0</td>\n",
       "      <td>0</td>\n",
       "      <td>0</td>\n",
       "      <td>0</td>\n",
       "      <td>1</td>\n",
       "      <td>0</td>\n",
       "      <td>0</td>\n",
       "      <td>0</td>\n",
       "    </tr>\n",
       "  </tbody>\n",
       "</table>\n",
       "<p>5 rows × 66 columns</p>\n",
       "</div>"
      ],
      "text/plain": [
       "   White Proportion  Black Proportion  Asian Proportion  Hispanic Proportion  \\\n",
       "0              57.3              14.3              21.7                  6.5   \n",
       "1              57.3              14.3              21.7                  6.5   \n",
       "2              57.3              14.3              21.7                  6.5   \n",
       "3              50.8              21.9              22.6                  9.2   \n",
       "4              51.9              11.9              23.5                 11.0   \n",
       "\n",
       "   Median Income  Mean Income 2016 GENERAL PRIMARY 2016 GENERAL ELECTION  \\\n",
       "0           4478        71631                    1                     1   \n",
       "1           4478        71631                    0                     0   \n",
       "2           4478        71631                    0                     0   \n",
       "3           6920        33335                    0                     0   \n",
       "4           4588        64703                    1                     0   \n",
       "\n",
       "  2017 MUNICIPAL PRIMARY 2017 MUNICIPAL ELECTION  ... Precinct Code_2707  \\\n",
       "0                      0                       0  ...                  0   \n",
       "1                      0                       0  ...                  0   \n",
       "2                      0                       0  ...                  0   \n",
       "3                      0                       0  ...                  0   \n",
       "4                      0                       0  ...                  0   \n",
       "\n",
       "  Precinct Code_2711 Precinct Code_2716 Precinct Code_2718 Precinct Code_2719  \\\n",
       "0                  0                  0                  0                  1   \n",
       "1                  0                  0                  0                  1   \n",
       "2                  0                  0                  0                  0   \n",
       "3                  0                  0                  1                  0   \n",
       "4                  0                  0                  0                  0   \n",
       "\n",
       "  Precinct Code_2720  Precinct Code_2721  Precinct Code_2722  \\\n",
       "0                  0                   0                   0   \n",
       "1                  0                   0                   0   \n",
       "2                  0                   0                   1   \n",
       "3                  0                   0                   0   \n",
       "4                  0                   1                   0   \n",
       "\n",
       "   Precinct Code_3207  Precinct Code_4706  \n",
       "0                   0                   0  \n",
       "1                   0                   0  \n",
       "2                   0                   0  \n",
       "3                   0                   0  \n",
       "4                   0                   0  \n",
       "\n",
       "[5 rows x 66 columns]"
      ]
     },
     "execution_count": 215,
     "metadata": {},
     "output_type": "execute_result"
    }
   ],
   "source": [
    "data_final.head(5)"
   ]
  },
  {
   "cell_type": "code",
   "execution_count": 216,
   "id": "ahead-resort",
   "metadata": {},
   "outputs": [],
   "source": [
    "X = data_final.loc[:, data_final.columns != '2020 GENERAL ELECTION']\n",
    "y = data_final.loc[:, data_final.columns == '2020 GENERAL ELECTION']\n",
    "\n",
    "y = y.astype(int)\n",
    "\n",
    "columns = X.columns\n",
    "\n",
    "X_ = np.array(X)\n",
    "y_ = np.array(y)\n",
    "\n",
    "from imblearn.over_sampling import SMOTE\n",
    "from sklearn.model_selection import train_test_split\n",
    "\n",
    "sm = SMOTE(random_state=0)\n",
    "\n",
    "X_train, X_test, y_train, y_test = train_test_split(X_, y_, test_size=0.3, random_state=42)\n",
    "\n",
    "sm_X,sm_y = sm.fit_resample(X_train, y_train)\n",
    "sm_X = pd.DataFrame(data=sm_X,columns=columns )\n",
    "sm_y = pd.DataFrame(data=sm_y,columns=['2020 GENERAL ELECTION'])\n",
    "\n",
    "cols = sm_X.columns\n",
    "\n",
    "from sklearn.preprocessing import StandardScaler\n",
    "scaler = StandardScaler()\n",
    "sm_X = scaler.fit_transform(sm_X)\n",
    "X_test = scaler.transform(X_test)\n",
    "\n",
    "sm_X = pd.DataFrame(data=sm_X,columns=cols)\n",
    "X_test = pd.DataFrame(data=X_test,columns=cols)"
   ]
  },
  {
   "cell_type": "code",
   "execution_count": 217,
   "id": "removed-desperate",
   "metadata": {},
   "outputs": [
    {
     "name": "stdout",
     "output_type": "stream",
     "text": [
      "Accuracy: 0.51585\n"
     ]
    }
   ],
   "source": [
    "from sklearn.naive_bayes import GaussianNB\n",
    "from sklearn import metrics\n",
    "\n",
    "gnb = GaussianNB()\n",
    "gnb.fit(sm_X,sm_y.values.ravel())\n",
    "y_pred_gnb = gnb.predict(X_test)\n",
    "print('Accuracy: {:.5f}'.format(metrics.accuracy_score(y_test, y_pred_gnb)))\n",
    "\n",
    "data_ps_gnb = X_test.assign(propensity_score=gnb.predict_proba(X_test)[:, 1])\n",
    "scores_gnb = data_ps_gnb['propensity_score'].to_list()"
   ]
  },
  {
   "cell_type": "code",
   "execution_count": 218,
   "id": "under-airplane",
   "metadata": {},
   "outputs": [
    {
     "name": "stdout",
     "output_type": "stream",
     "text": [
      "Accuracy: 0.73240\n"
     ]
    }
   ],
   "source": [
    "from sklearn.feature_selection import RFE\n",
    "from sklearn.linear_model import LogisticRegression\n",
    "\n",
    "logreg = LogisticRegression(solver = 'lbfgs', max_iter=400)\n",
    "logreg.fit(sm_X,sm_y.values.ravel())\n",
    "y_pred = logreg.predict(X_test)\n",
    "print('Accuracy: {:.5f}'.format(metrics.accuracy_score(y_test, y_pred)))\n",
    "\n",
    "data_ps = X_test.assign(propensity_score=logreg.predict_proba(X_test)[:, 1])\n",
    "scores = data_ps['propensity_score'].to_list()"
   ]
  },
  {
   "cell_type": "code",
   "execution_count": 245,
   "id": "another-deficit",
   "metadata": {},
   "outputs": [
    {
     "name": "stdout",
     "output_type": "stream",
     "text": [
      "Accuracy: 0.78263\n"
     ]
    }
   ],
   "source": [
    "from sklearn.ensemble import RandomForestClassifier\n",
    "\n",
    "clf = RandomForestClassifier()\n",
    "\n",
    "rfe = RFE(clf, n_features_to_select=20)\n",
    "rfe = rfe.fit(sm_X, sm_y.values.ravel())\n",
    "relevant_ind = [ind for ind,x in enumerate(rfe.ranking_) if x == 1]\n",
    "significant = [x for ind,x in enumerate(sm_X.columns.to_list()) if ind in relevant_ind]\n",
    "clf_X = X[significant]\n",
    "clf_y = y['2020 GENERAL ELECTION']\n",
    "\n",
    "clfX_train, clfX_test, clfy_train, clfy_test = train_test_split(clf_X, clf_y, test_size=0.3, random_state=42)\n",
    "\n",
    "clf.fit(clfX_train,clfy_train)\n",
    "y_pred_clf = clf.predict(clfX_test)\n",
    "print('Accuracy: {:.5f}'.format(metrics.accuracy_score(clfy_test, y_pred_clf)))\n",
    "\n",
    "data_ps_clf = clfX_test.assign(propensity_score=clf.predict_proba(clfX_test)[:, 1])\n",
    "scores_clf = data_ps_clf['propensity_score'].to_list()"
   ]
  },
  {
   "cell_type": "code",
   "execution_count": 247,
   "id": "nuclear-aruba",
   "metadata": {},
   "outputs": [
    {
     "data": {
      "image/png": "[encoded data removed]",
      "text/plain": [
       "<Figure size 432x288 with 1 Axes>"
      ]
     },
     "metadata": {
      "needs_background": "light"
     },
     "output_type": "display_data"
    }
   ],
   "source": [
    "pred_features = pd.Series(clf.feature_importances_,index=clf_X.columns).sort_values(ascending=False)\n",
    "sns.barplot(x=pred_features, y=pred_features.index)\n",
    "plt.xlabel('Feature Importance Score')\n",
    "plt.ylabel('Features')\n",
    "plt.title(\"Important Features\")\n",
    "plt.show()"
   ]
  },
  {
   "cell_type": "code",
   "execution_count": 248,
   "id": "baking-space",
   "metadata": {},
   "outputs": [
    {
     "data": {
      "image/png": "[encoded data removed]",
      "text/plain": [
       "<Figure size 432x288 with 1 Axes>"
      ]
     },
     "metadata": {
      "needs_background": "light"
     },
     "output_type": "display_data"
    }
   ],
   "source": [
    "from sklearn.metrics import roc_auc_score\n",
    "from sklearn.metrics import roc_curve\n",
    "import matplotlib.pyplot as plt \n",
    "\n",
    "gnb_roc_auc = roc_auc_score(y_test, y_pred_gnb)\n",
    "logit_roc_auc = roc_auc_score(y_test, y_pred)\n",
    "rf_roc_auc = roc_auc_score(clfy_test, y_pred_clf)\n",
    "\n",
    "fpr, tpr, thresholds = roc_curve(y_test, logreg.predict_proba(X_test)[:,1])\n",
    "fpr2, tpr2, thresholds2 = roc_curve(y_test, gnb.predict_proba(X_test)[:,1])\n",
    "fpr3, tpr3, thresholds3 = roc_curve(clfy_test, clf.predict_proba(clfX_test)[:,1])\n",
    "\n",
    "plt.figure()\n",
    "plt.plot(fpr2, tpr2, label='Gaussian Naive Bayes (area = %0.2f)' % gnb_roc_auc)\n",
    "plt.plot(fpr, tpr, label='Logistic Regression (area = %0.2f)' % logit_roc_auc)\n",
    "plt.plot(fpr3, tpr3, label='Random Forest Classifier (area = %0.2f)' % rf_roc_auc)\n",
    "\n",
    "plt.plot([0, 1], [0, 1],'r--')\n",
    "plt.xlim([0.0, 1.0])\n",
    "plt.ylim([0.0, 1.0])\n",
    "plt.xlabel('False Positive Rate')\n",
    "plt.ylabel('True Positive Rate')\n",
    "plt.title('ROC Curves')\n",
    "plt.legend(loc=\"lower right\")\n",
    "plt.savefig('Log_ROC')\n",
    "plt.show()"
   ]
  },
  {
   "cell_type": "code",
   "execution_count": null,
   "id": "super-result",
   "metadata": {},
   "outputs": [],
   "source": []
  }
 ],
 "metadata": {
  "kernelspec": {
   "display_name": "Python 3",
   "language": "python",
   "name": "python3"
  },
  "language_info": {
   "codemirror_mode": {
    "name": "ipython",
    "version": 3
   },
   "file_extension": ".py",
   "mimetype": "text/x-python",
   "name": "python",
   "nbconvert_exporter": "python",
   "pygments_lexer": "ipython3",
   "version": "3.9.2"
  }
 },
 "nbformat": 4,
 "nbformat_minor": 5
}
