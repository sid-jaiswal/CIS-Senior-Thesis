{
 "cells": [
  {
   "cell_type": "code",
   "execution_count": 64,
   "id": "under-picnic",
   "metadata": {},
   "outputs": [
    {
     "name": "stderr",
     "output_type": "stream",
     "text": [
      "c:\\users\\sidj2\\appdata\\local\\programs\\python\\python39\\lib\\site-packages\\IPython\\core\\interactiveshell.py:3165: DtypeWarning: Columns (329,330,331,332,333,338,339,340,341,342,529,530,531,532,533,534,535,536,537,538,539,540,541,542) have mixed types.Specify dtype option on import or set low_memory=False.\n",
      "  has_raised = await self.run_ast_nodes(code_ast.body, cell_name,\n"
     ]
    }
   ],
   "source": [
    "import pandas as pd \n",
    "import numpy as np\n",
    "\n",
    "df = pd.read_csv(\"CCES20_Common_OUTPUT.csv\") "
   ]
  },
  {
   "cell_type": "code",
   "execution_count": 65,
   "id": "simplified-lying",
   "metadata": {},
   "outputs": [
    {
     "data": {
      "text/html": [
       "<div>\n",
       "<style scoped>\n",
       "    .dataframe tbody tr th:only-of-type {\n",
       "        vertical-align: middle;\n",
       "    }\n",
       "\n",
       "    .dataframe tbody tr th {\n",
       "        vertical-align: top;\n",
       "    }\n",
       "\n",
       "    .dataframe thead th {\n",
       "        text-align: right;\n",
       "    }\n",
       "</style>\n",
       "<table border=\"1\" class=\"dataframe\">\n",
       "  <thead>\n",
       "    <tr style=\"text-align: right;\">\n",
       "      <th></th>\n",
       "      <th>Unnamed: 0</th>\n",
       "      <th>caseid</th>\n",
       "      <th>commonweight</th>\n",
       "      <th>commonpostweight</th>\n",
       "      <th>tookpost</th>\n",
       "      <th>CCEStake</th>\n",
       "      <th>birthyr</th>\n",
       "      <th>gender</th>\n",
       "      <th>educ</th>\n",
       "      <th>race</th>\n",
       "      <th>...</th>\n",
       "      <th>page_CC20_433_rep_timing</th>\n",
       "      <th>page_CC20_433b_timing</th>\n",
       "      <th>page_CC20_440_grid_timing</th>\n",
       "      <th>page_CC20_441_grid_timing</th>\n",
       "      <th>page_CC20_442_grid_timing</th>\n",
       "      <th>page_CC20_443_timing</th>\n",
       "      <th>page_gunown_timing</th>\n",
       "      <th>page_numchildren_timing</th>\n",
       "      <th>page_edloan_timing</th>\n",
       "      <th>page_student_timing</th>\n",
       "    </tr>\n",
       "  </thead>\n",
       "  <tbody>\n",
       "    <tr>\n",
       "      <th>0</th>\n",
       "      <td>1</td>\n",
       "      <td>1232318697</td>\n",
       "      <td>0.783</td>\n",
       "      <td>0.665716</td>\n",
       "      <td>2</td>\n",
       "      <td>1</td>\n",
       "      <td>1966</td>\n",
       "      <td>1</td>\n",
       "      <td>4</td>\n",
       "      <td>1</td>\n",
       "      <td>...</td>\n",
       "      <td>11.844</td>\n",
       "      <td>0.0</td>\n",
       "      <td>59.339</td>\n",
       "      <td>28.464</td>\n",
       "      <td>97.403</td>\n",
       "      <td>339.34</td>\n",
       "      <td>94.145</td>\n",
       "      <td>23.653</td>\n",
       "      <td>55.331</td>\n",
       "      <td>0.0</td>\n",
       "    </tr>\n",
       "  </tbody>\n",
       "</table>\n",
       "<p>1 rows × 707 columns</p>\n",
       "</div>"
      ],
      "text/plain": [
       "   Unnamed: 0      caseid  commonweight  commonpostweight  tookpost  CCEStake  \\\n",
       "0           1  1232318697         0.783          0.665716         2         1   \n",
       "\n",
       "   birthyr  gender  educ  race  ... page_CC20_433_rep_timing  \\\n",
       "0     1966       1     4     1  ...                   11.844   \n",
       "\n",
       "   page_CC20_433b_timing  page_CC20_440_grid_timing  \\\n",
       "0                    0.0                     59.339   \n",
       "\n",
       "   page_CC20_441_grid_timing  page_CC20_442_grid_timing  page_CC20_443_timing  \\\n",
       "0                     28.464                     97.403                339.34   \n",
       "\n",
       "   page_gunown_timing  page_numchildren_timing  page_edloan_timing  \\\n",
       "0              94.145                   23.653              55.331   \n",
       "\n",
       "   page_student_timing  \n",
       "0                  0.0  \n",
       "\n",
       "[1 rows x 707 columns]"
      ]
     },
     "execution_count": 65,
     "metadata": {},
     "output_type": "execute_result"
    }
   ],
   "source": [
    "df.head(1)"
   ]
  },
  {
   "cell_type": "code",
   "execution_count": 66,
   "id": "victorian-andorra",
   "metadata": {},
   "outputs": [
    {
     "data": {
      "text/plain": [
       "Unnamed: 0                 1211\n",
       "caseid                     1211\n",
       "commonweight               1211\n",
       "commonpostweight           1211\n",
       "tookpost                   1211\n",
       "                           ... \n",
       "page_CC20_443_timing       1211\n",
       "page_gunown_timing         1211\n",
       "page_numchildren_timing    1211\n",
       "page_edloan_timing         1211\n",
       "page_student_timing        1211\n",
       "Length: 707, dtype: int64"
      ]
     },
     "execution_count": 66,
     "metadata": {},
     "output_type": "execute_result"
    }
   ],
   "source": [
    "ya_df = df[df['student'] == 1]\n",
    "ya_df.count()"
   ]
  },
  {
   "cell_type": "code",
   "execution_count": 67,
   "id": "unauthorized-farmer",
   "metadata": {},
   "outputs": [],
   "source": [
    "relevant_cols = ['CC20_401', 'votereg', 'inputstate', 'gender', 'educ', 'race', 'region',\n",
    "                 'CC20_422r', 'CC20_431a', 'CC20_433a']\n",
    "ya_df = ya_df[relevant_cols]"
   ]
  },
  {
   "cell_type": "code",
   "execution_count": 80,
   "id": "administrative-still",
   "metadata": {},
   "outputs": [],
   "source": [
    "ya_df['CC20_401'] = ya_df['CC20_401'].astype(float)"
   ]
  },
  {
   "cell_type": "code",
   "execution_count": 81,
   "id": "owned-heart",
   "metadata": {},
   "outputs": [
    {
     "data": {
      "text/html": [
       "<div>\n",
       "<style scoped>\n",
       "    .dataframe tbody tr th:only-of-type {\n",
       "        vertical-align: middle;\n",
       "    }\n",
       "\n",
       "    .dataframe tbody tr th {\n",
       "        vertical-align: top;\n",
       "    }\n",
       "\n",
       "    .dataframe thead th {\n",
       "        text-align: right;\n",
       "    }\n",
       "</style>\n",
       "<table border=\"1\" class=\"dataframe\">\n",
       "  <thead>\n",
       "    <tr style=\"text-align: right;\">\n",
       "      <th></th>\n",
       "      <th>CC20_401</th>\n",
       "      <th>votereg</th>\n",
       "      <th>inputstate</th>\n",
       "      <th>gender</th>\n",
       "      <th>educ</th>\n",
       "      <th>race</th>\n",
       "      <th>region</th>\n",
       "      <th>CC20_422r</th>\n",
       "      <th>CC20_431a</th>\n",
       "      <th>CC20_433a</th>\n",
       "      <th>Voted</th>\n",
       "    </tr>\n",
       "  </thead>\n",
       "  <tbody>\n",
       "    <tr>\n",
       "      <th>73</th>\n",
       "      <td>5.0</td>\n",
       "      <td>1</td>\n",
       "      <td>49</td>\n",
       "      <td>2</td>\n",
       "      <td>6</td>\n",
       "      <td>1</td>\n",
       "      <td>4</td>\n",
       "      <td>96.0</td>\n",
       "      <td>1.0</td>\n",
       "      <td>1.0</td>\n",
       "      <td>0</td>\n",
       "    </tr>\n",
       "    <tr>\n",
       "      <th>2361</th>\n",
       "      <td>5.0</td>\n",
       "      <td>1</td>\n",
       "      <td>36</td>\n",
       "      <td>2</td>\n",
       "      <td>3</td>\n",
       "      <td>4</td>\n",
       "      <td>1</td>\n",
       "      <td>50.0</td>\n",
       "      <td>1.0</td>\n",
       "      <td>1.0</td>\n",
       "      <td>0</td>\n",
       "    </tr>\n",
       "    <tr>\n",
       "      <th>2912</th>\n",
       "      <td>5.0</td>\n",
       "      <td>1</td>\n",
       "      <td>19</td>\n",
       "      <td>1</td>\n",
       "      <td>6</td>\n",
       "      <td>1</td>\n",
       "      <td>2</td>\n",
       "      <td>75.0</td>\n",
       "      <td>1.0</td>\n",
       "      <td>1.0</td>\n",
       "      <td>0</td>\n",
       "    </tr>\n",
       "    <tr>\n",
       "      <th>3118</th>\n",
       "      <td>5.0</td>\n",
       "      <td>1</td>\n",
       "      <td>29</td>\n",
       "      <td>1</td>\n",
       "      <td>3</td>\n",
       "      <td>1</td>\n",
       "      <td>2</td>\n",
       "      <td>21.0</td>\n",
       "      <td>2.0</td>\n",
       "      <td>3.0</td>\n",
       "      <td>0</td>\n",
       "    </tr>\n",
       "    <tr>\n",
       "      <th>3212</th>\n",
       "      <td>5.0</td>\n",
       "      <td>1</td>\n",
       "      <td>49</td>\n",
       "      <td>2</td>\n",
       "      <td>3</td>\n",
       "      <td>1</td>\n",
       "      <td>4</td>\n",
       "      <td>43.0</td>\n",
       "      <td>1.0</td>\n",
       "      <td>3.0</td>\n",
       "      <td>0</td>\n",
       "    </tr>\n",
       "  </tbody>\n",
       "</table>\n",
       "</div>"
      ],
      "text/plain": [
       "      CC20_401  votereg  inputstate  gender  educ  race  region  CC20_422r  \\\n",
       "73         5.0        1          49       2     6     1       4       96.0   \n",
       "2361       5.0        1          36       2     3     4       1       50.0   \n",
       "2912       5.0        1          19       1     6     1       2       75.0   \n",
       "3118       5.0        1          29       1     3     1       2       21.0   \n",
       "3212       5.0        1          49       2     3     1       4       43.0   \n",
       "\n",
       "      CC20_431a  CC20_433a  Voted  \n",
       "73          1.0        1.0      0  \n",
       "2361        1.0        1.0      0  \n",
       "2912        1.0        1.0      0  \n",
       "3118        2.0        3.0      0  \n",
       "3212        1.0        3.0      0  "
      ]
     },
     "execution_count": 81,
     "metadata": {},
     "output_type": "execute_result"
    }
   ],
   "source": [
    "ya_df.head()"
   ]
  },
  {
   "cell_type": "code",
   "execution_count": null,
   "id": "scientific-courtesy",
   "metadata": {},
   "outputs": [],
   "source": []
  }
 ],
 "metadata": {
  "kernelspec": {
   "display_name": "Python 3",
   "language": "python",
   "name": "python3"
  },
  "language_info": {
   "codemirror_mode": {
    "name": "ipython",
    "version": 3
   },
   "file_extension": ".py",
   "mimetype": "text/x-python",
   "name": "python",
   "nbconvert_exporter": "python",
   "pygments_lexer": "ipython3",
   "version": "3.9.2"
  }
 },
 "nbformat": 4,
 "nbformat_minor": 5
}
